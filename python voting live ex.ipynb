{
 "cells": [
  {
   "cell_type": "code",
   "execution_count": 1,
   "id": "9c59d108-7cc9-4ba2-884f-9fb974966886",
   "metadata": {},
   "outputs": [
    {
     "name": "stdin",
     "output_type": "stream",
     "text": [
      "what is your name? Jessica\n"
     ]
    },
    {
     "name": "stdout",
     "output_type": "stream",
     "text": [
      "Hello, Jessica!\n"
     ]
    }
   ],
   "source": [
    "name= input(\"what is your name?\")\n",
    "print(f\"Hello, {name}!\")"
   ]
  },
  {
   "cell_type": "code",
   "execution_count": 2,
   "id": "6294cb12-ae8c-4c2d-a789-c276ae5a9a1a",
   "metadata": {},
   "outputs": [
    {
     "name": "stdin",
     "output_type": "stream",
     "text": [
      "What is your age? 28\n"
     ]
    },
    {
     "name": "stdout",
     "output_type": "stream",
     "text": [
      "You are 28 years old.\n"
     ]
    }
   ],
   "source": [
    "age= input(\"What is your age?\")\n",
    "print(f\"You are {age} years old.\")"
   ]
  },
  {
   "cell_type": "code",
   "execution_count": 43,
   "id": "2cb1d03d-29d1-4931-9f6c-2e6f457aa701",
   "metadata": {},
   "outputs": [
    {
     "name": "stdin",
     "output_type": "stream",
     "text": [
      "Enter your age 28\n"
     ]
    },
    {
     "name": "stdout",
     "output_type": "stream",
     "text": [
      "You are eligible to vote.\n"
     ]
    }
   ],
   "source": [
    "age= int(input(\"Enter your age\"))            #voters eligibility\n",
    "if age >=18 :\n",
    "    print(\"You are eligible to vote.\")\n",
    "else:\n",
    "    print(\"You are not eligible to vote.\")"
   ]
  },
  {
   "cell_type": "code",
   "execution_count": 64,
   "id": "4d49c04a-565d-47eb-9549-024bc4712062",
   "metadata": {},
   "outputs": [
    {
     "name": "stdin",
     "output_type": "stream",
     "text": [
      "enter a number 6\n"
     ]
    },
    {
     "name": "stdout",
     "output_type": "stream",
     "text": [
      "num1: 6\n"
     ]
    }
   ],
   "source": [
    "#calculator\n",
    "\n",
    "number1= input(\"enter a number\")\n",
    "num1= int(number1)\n",
    "print(f\"num1: {num1}\")"
   ]
  },
  {
   "cell_type": "code",
   "execution_count": 66,
   "id": "daef29d5-cb19-49d1-8db4-e03546b454fd",
   "metadata": {},
   "outputs": [
    {
     "name": "stdin",
     "output_type": "stream",
     "text": [
      "enter a number 8\n"
     ]
    },
    {
     "name": "stdout",
     "output_type": "stream",
     "text": [
      "num2: 8\n"
     ]
    }
   ],
   "source": [
    "number2= input(\"enter a number\")\n",
    "num2= int(number2)\n",
    "print(f\"num2: {num2}\")"
   ]
  },
  {
   "cell_type": "code",
   "execution_count": 70,
   "id": "9e022914-3bc5-43ae-9bc8-cd930f7bee43",
   "metadata": {},
   "outputs": [
    {
     "name": "stdin",
     "output_type": "stream",
     "text": [
      "enter a sign *\n"
     ]
    }
   ],
   "source": [
    "sign= input(\"enter a sign\")\n"
   ]
  },
  {
   "cell_type": "code",
   "execution_count": 74,
   "id": "d3df73fc-dad0-41e7-bdf0-a828e26ebfbf",
   "metadata": {},
   "outputs": [
    {
     "name": "stdout",
     "output_type": "stream",
     "text": [
      "your result is: 48\n"
     ]
    }
   ],
   "source": [
    "if sign== '+':\n",
    "    print(f\"your result is: {num1+num2}\")\n",
    "elif sign=='-':\n",
    "    print(f\"your result is: {num1-num2}\")\n",
    "elif sign== '*':\n",
    "    print(f\"your result is: {num1*num2}\")\n",
    "elif sign== '/':\n",
    "    print(f\"your result is: {num1/num2}\")\n",
    "else:\n",
    "    print(\"please enter +,-, * or /\")"
   ]
  },
  {
   "cell_type": "code",
   "execution_count": null,
   "id": "761e267a-3e1f-4792-ad25-c81a36e2a7b7",
   "metadata": {},
   "outputs": [],
   "source": []
  }
 ],
 "metadata": {
  "kernelspec": {
   "display_name": "Python [conda env:base] *",
   "language": "python",
   "name": "conda-base-py"
  },
  "language_info": {
   "codemirror_mode": {
    "name": "ipython",
    "version": 3
   },
   "file_extension": ".py",
   "mimetype": "text/x-python",
   "name": "python",
   "nbconvert_exporter": "python",
   "pygments_lexer": "ipython3",
   "version": "3.12.7"
  }
 },
 "nbformat": 4,
 "nbformat_minor": 5
}
