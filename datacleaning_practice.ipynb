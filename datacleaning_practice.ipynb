{
 "cells": [
  {
   "cell_type": "code",
   "execution_count": 1,
   "id": "4dce2ff5-2471-45e1-b11e-496b592c8f72",
   "metadata": {},
   "outputs": [],
   "source": [
    "data= {'Customer_name': ['Carol White', 'Bob Brown', 'Eva Giri', 'Nancy Sanchez', 'Elliot Swift', 'Stephen Sanchez', 'Mike Brown', 'Julia Roberts', 'Kate Winston', 'Myra Jolie'],\n",
    "       'Product': ['Smartphone', 'laptop', 'TV', 'Dish washer', 'Smartphone', 'laptop', 'TV', 'Laptop', None, 'Laptop'],\n",
    "       'Price': [4000, 50000, 10000, None, 50000, 25000, 80000, None, 16000, 58000]}\n",
    "       "
   ]
  },
  {
   "cell_type": "code",
   "execution_count": 2,
   "id": "a8220d50-5672-439c-b407-a7682b3a3258",
   "metadata": {},
   "outputs": [],
   "source": [
    "import pandas as pd"
   ]
  },
  {
   "cell_type": "code",
   "execution_count": 3,
   "id": "892075fe-450c-4ccc-bec2-80d5236362e3",
   "metadata": {},
   "outputs": [
    {
     "data": {
      "text/html": [
       "<div>\n",
       "<style scoped>\n",
       "    .dataframe tbody tr th:only-of-type {\n",
       "        vertical-align: middle;\n",
       "    }\n",
       "\n",
       "    .dataframe tbody tr th {\n",
       "        vertical-align: top;\n",
       "    }\n",
       "\n",
       "    .dataframe thead th {\n",
       "        text-align: right;\n",
       "    }\n",
       "</style>\n",
       "<table border=\"1\" class=\"dataframe\">\n",
       "  <thead>\n",
       "    <tr style=\"text-align: right;\">\n",
       "      <th></th>\n",
       "      <th>Customer_name</th>\n",
       "      <th>Product</th>\n",
       "      <th>Price</th>\n",
       "    </tr>\n",
       "  </thead>\n",
       "  <tbody>\n",
       "    <tr>\n",
       "      <th>0</th>\n",
       "      <td>Carol White</td>\n",
       "      <td>Smartphone</td>\n",
       "      <td>4000.0</td>\n",
       "    </tr>\n",
       "    <tr>\n",
       "      <th>1</th>\n",
       "      <td>Bob Brown</td>\n",
       "      <td>laptop</td>\n",
       "      <td>50000.0</td>\n",
       "    </tr>\n",
       "    <tr>\n",
       "      <th>2</th>\n",
       "      <td>Eva Giri</td>\n",
       "      <td>TV</td>\n",
       "      <td>10000.0</td>\n",
       "    </tr>\n",
       "    <tr>\n",
       "      <th>3</th>\n",
       "      <td>Nancy Sanchez</td>\n",
       "      <td>Dish washer</td>\n",
       "      <td>NaN</td>\n",
       "    </tr>\n",
       "    <tr>\n",
       "      <th>4</th>\n",
       "      <td>Elliot Swift</td>\n",
       "      <td>Smartphone</td>\n",
       "      <td>50000.0</td>\n",
       "    </tr>\n",
       "    <tr>\n",
       "      <th>5</th>\n",
       "      <td>Stephen Sanchez</td>\n",
       "      <td>laptop</td>\n",
       "      <td>25000.0</td>\n",
       "    </tr>\n",
       "    <tr>\n",
       "      <th>6</th>\n",
       "      <td>Mike Brown</td>\n",
       "      <td>TV</td>\n",
       "      <td>80000.0</td>\n",
       "    </tr>\n",
       "    <tr>\n",
       "      <th>7</th>\n",
       "      <td>Julia Roberts</td>\n",
       "      <td>Laptop</td>\n",
       "      <td>NaN</td>\n",
       "    </tr>\n",
       "    <tr>\n",
       "      <th>8</th>\n",
       "      <td>Kate Winston</td>\n",
       "      <td>None</td>\n",
       "      <td>16000.0</td>\n",
       "    </tr>\n",
       "    <tr>\n",
       "      <th>9</th>\n",
       "      <td>Myra Jolie</td>\n",
       "      <td>Laptop</td>\n",
       "      <td>58000.0</td>\n",
       "    </tr>\n",
       "  </tbody>\n",
       "</table>\n",
       "</div>"
      ],
      "text/plain": [
       "     Customer_name      Product    Price\n",
       "0      Carol White   Smartphone   4000.0\n",
       "1        Bob Brown       laptop  50000.0\n",
       "2         Eva Giri           TV  10000.0\n",
       "3    Nancy Sanchez  Dish washer      NaN\n",
       "4     Elliot Swift   Smartphone  50000.0\n",
       "5  Stephen Sanchez       laptop  25000.0\n",
       "6       Mike Brown           TV  80000.0\n",
       "7    Julia Roberts       Laptop      NaN\n",
       "8     Kate Winston         None  16000.0\n",
       "9       Myra Jolie       Laptop  58000.0"
      ]
     },
     "execution_count": 3,
     "metadata": {},
     "output_type": "execute_result"
    }
   ],
   "source": [
    "df= pd.DataFrame(data)\n",
    "df"
   ]
  },
  {
   "cell_type": "code",
   "execution_count": 4,
   "id": "aef7a5c2-f12d-4487-8b4d-817970933385",
   "metadata": {},
   "outputs": [
    {
     "name": "stdout",
     "output_type": "stream",
     "text": [
      "<class 'pandas.core.frame.DataFrame'>\n",
      "RangeIndex: 10 entries, 0 to 9\n",
      "Data columns (total 3 columns):\n",
      " #   Column         Non-Null Count  Dtype  \n",
      "---  ------         --------------  -----  \n",
      " 0   Customer_name  10 non-null     object \n",
      " 1   Product        9 non-null      object \n",
      " 2   Price          8 non-null      float64\n",
      "dtypes: float64(1), object(2)\n",
      "memory usage: 372.0+ bytes\n",
      "None\n"
     ]
    }
   ],
   "source": [
    "print(df.info())\n"
   ]
  },
  {
   "cell_type": "code",
   "execution_count": 31,
   "id": "e3265193-5c34-4e0a-a81e-c92f2cee04c2",
   "metadata": {},
   "outputs": [
    {
     "data": {
      "text/plain": [
       "36625.0"
      ]
     },
     "execution_count": 31,
     "metadata": {},
     "output_type": "execute_result"
    }
   ],
   "source": [
    "df['Price'].mean()"
   ]
  },
  {
   "cell_type": "code",
   "execution_count": 35,
   "id": "98d375af-aa4e-45fd-83e6-a794419975e0",
   "metadata": {},
   "outputs": [
    {
     "data": {
      "text/plain": [
       "0        Laptop\n",
       "1    Smartphone\n",
       "2            TV\n",
       "3        laptop\n",
       "Name: Product, dtype: object"
      ]
     },
     "execution_count": 35,
     "metadata": {},
     "output_type": "execute_result"
    }
   ],
   "source": [
    "df['Product'].mode()"
   ]
  },
  {
   "cell_type": "code",
   "execution_count": 39,
   "id": "0362d7c0-6aee-4878-8415-d02ea2d0d706",
   "metadata": {},
   "outputs": [
    {
     "name": "stdout",
     "output_type": "stream",
     "text": [
      "     Customer_name      Product    Price\n",
      "0      Carol White   Smartphone   4000.0\n",
      "1        Bob Brown       laptop  50000.0\n",
      "2         Eva Giri           TV  10000.0\n",
      "3    Nancy Sanchez  Dish washer  36625.0\n",
      "4     Elliot Swift   Smartphone  50000.0\n",
      "5  Stephen Sanchez       laptop  25000.0\n",
      "6       Mike Brown           TV  80000.0\n",
      "7    Julia Roberts       Laptop  36625.0\n",
      "8     Kate Winston         None  16000.0\n",
      "9       Myra Jolie       Laptop  58000.0\n"
     ]
    }
   ],
   "source": [
    "#Replacing the null values in each numerical columns with their mean\n",
    "df['Price'] = df['Price'].fillna(value= df['Price'].mean())\n",
    "print(df)"
   ]
  },
  {
   "cell_type": "code",
   "execution_count": 63,
   "id": "d4be855a-4f4b-4001-9636-6561bb7d4b80",
   "metadata": {},
   "outputs": [
    {
     "name": "stdout",
     "output_type": "stream",
     "text": [
      "     Customer_name      Product    Price\n",
      "0      Carol White   Smartphone   4000.0\n",
      "1        Bob Brown       laptop  50000.0\n",
      "2         Eva Giri           TV  10000.0\n",
      "3    Nancy Sanchez  Dish washer  36625.0\n",
      "4     Elliot Swift   Smartphone  50000.0\n",
      "5  Stephen Sanchez       laptop  25000.0\n",
      "6       Mike Brown           TV  80000.0\n",
      "7    Julia Roberts       Laptop  36625.0\n",
      "8     Kate Winston       Laptop  16000.0\n",
      "9       Myra Jolie       Laptop  58000.0\n"
     ]
    }
   ],
   "source": [
    "#Replacing the null values in each categorical columns with their mode\n",
    "mode_value = df['Product'].mode()[0]  # Get the mode of column 'product'\n",
    "df['Product'].fillna(mode_value, inplace=True)  # Replace NaN with the mode\n",
    "print(df)\n",
    "    "
   ]
  },
  {
   "cell_type": "code",
   "execution_count": 65,
   "id": "05f36b6b-8fb6-494a-9dad-434db8eeddfb",
   "metadata": {},
   "outputs": [
    {
     "data": {
      "text/plain": [
       "Customer_name    0\n",
       "Product          0\n",
       "Price            0\n",
       "dtype: int64"
      ]
     },
     "execution_count": 65,
     "metadata": {},
     "output_type": "execute_result"
    }
   ],
   "source": [
    "df.isnull().sum()"
   ]
  },
  {
   "cell_type": "markdown",
   "id": "a558fcbb-5414-4ab0-bb7d-3743d4ef1b94",
   "metadata": {},
   "source": [
    "All the NUll VALUES in the categorical columns were replaced by its Mode value and those in Numerical Columns were replaced by their Mean value."
   ]
  },
  {
   "cell_type": "code",
   "execution_count": null,
   "id": "ebfff578-b838-47d8-93ef-146f7270e278",
   "metadata": {},
   "outputs": [],
   "source": [
    "\n",
    "\n"
   ]
  }
 ],
 "metadata": {
  "kernelspec": {
   "display_name": "Python [conda env:base] *",
   "language": "python",
   "name": "conda-base-py"
  },
  "language_info": {
   "codemirror_mode": {
    "name": "ipython",
    "version": 3
   },
   "file_extension": ".py",
   "mimetype": "text/x-python",
   "name": "python",
   "nbconvert_exporter": "python",
   "pygments_lexer": "ipython3",
   "version": "3.12.7"
  }
 },
 "nbformat": 4,
 "nbformat_minor": 5
}
