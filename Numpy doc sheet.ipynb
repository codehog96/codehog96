{
 "cells": [
  {
   "cell_type": "markdown",
   "id": "06f90181-5cf1-400a-9905-fb2d22b04bf3",
   "metadata": {},
   "source": [
    "NumPy(short for Numerical Python): Python library used for efficient numerical calculations.It provides tools to work with large, multi-dimensional arrays and matrices, along with a collection of mathematical functions to operate on them.\n",
    "\n",
    "Key features of NumPy:\n",
    "\n",
    "*N-dimensional Arrays: ndarray -> multidimensional arrays of homogeneous data types\n",
    "\n",
    "*ndarray -> speed and memory [built on C] as compared to List\n",
    "\n",
    "*Mathematical Operations:mean, sum, max, min, standard deviation, etc.\n",
    "\n",
    "*Allows vectorized operations ->> absence of any explicit looping, indexing, etc., in the code - these things are taking place, of course, just “behind the scenes” in optimized, pre-compiled C code (which makes the code more concise and easier to read and also fewer lines means there will be fewer bugs in the code)\n",
    "\n",
    "After installing NumPy, it may be imported into Python code like:"
   ]
  },
  {
   "cell_type": "code",
   "execution_count": null,
   "id": "2255884b-08de-456d-b17b-2eeea9a720dc",
   "metadata": {},
   "outputs": [],
   "source": [
    "import numpy as np"
   ]
  },
  {
   "cell_type": "markdown",
   "id": "d0887ef9-d5f5-4433-963a-5475d6f70248",
   "metadata": {},
   "source": [
    "Most NumPy arrays have some restrictions. For instance:\n",
    "\n",
    "*All elements of the array must be of the same type of data.\n",
    "*Once created, the total size of the array can’t change.\n",
    "*The shape must be “rectangular”, not “jagged”; e.g., each row of a two-dimensional array must have the same number of columns"
   ]
  },
  {
   "cell_type": "markdown",
   "id": "55905d1f-5a74-49c1-8aa3-76c74a315b99",
   "metadata": {},
   "source": [
    "Array attributes: \n",
    "This section covers the ndim, shape, size, and dtype attributes of an array.\n",
    "The number of dimensions of an array is contained in the ndim attribute.\n"
   ]
  },
  {
   "cell_type": "code",
   "execution_count": 15,
   "id": "2b649d16-70c2-476c-9f3a-952066c536e0",
   "metadata": {},
   "outputs": [],
   "source": [
    "import numpy as np"
   ]
  },
  {
   "cell_type": "code",
   "execution_count": 17,
   "id": "15a26c17-e943-4673-95d4-49a4ac073195",
   "metadata": {},
   "outputs": [
    {
     "name": "stdout",
     "output_type": "stream",
     "text": [
      "[15 20 36 41 24 33]\n"
     ]
    }
   ],
   "source": [
    "n= np.array([15,20,36,41,24,33])\n",
    "print(n)\n"
   ]
  },
  {
   "cell_type": "code",
   "execution_count": 23,
   "id": "519b1eb5-d559-41e5-a410-ac23a31fb21a",
   "metadata": {},
   "outputs": [
    {
     "name": "stdout",
     "output_type": "stream",
     "text": [
      "<class 'numpy.ndarray'>\n"
     ]
    }
   ],
   "source": [
    "print(type(n))"
   ]
  },
  {
   "cell_type": "code",
   "execution_count": 27,
   "id": "5e6696c4-8e55-4123-83af-02f8abd283db",
   "metadata": {},
   "outputs": [
    {
     "data": {
      "text/plain": [
       "dtype('int64')"
      ]
     },
     "execution_count": 27,
     "metadata": {},
     "output_type": "execute_result"
    }
   ],
   "source": [
    "n.dtype  #data type is recorded in the dtype attribute.(Arrays are typically “homogeneous”, meaning that they contain elements of only one “data type”.)"
   ]
  },
  {
   "cell_type": "code",
   "execution_count": 29,
   "id": "1358c1dd-1878-43e1-be1a-c06d9943d235",
   "metadata": {},
   "outputs": [
    {
     "data": {
      "text/plain": [
       "1"
      ]
     },
     "execution_count": 29,
     "metadata": {},
     "output_type": "execute_result"
    }
   ],
   "source": [
    "n.ndim      #number of dimensions of an array"
   ]
  },
  {
   "cell_type": "code",
   "execution_count": 31,
   "id": "08169f15-55ac-4f10-93c5-df2261ab8116",
   "metadata": {},
   "outputs": [
    {
     "data": {
      "text/plain": [
       "(6,)"
      ]
     },
     "execution_count": 31,
     "metadata": {},
     "output_type": "execute_result"
    }
   ],
   "source": [
    "n.shape    #shape of an array is a tuple of non-negative integers that specify the number of elements along each dimension."
   ]
  },
  {
   "cell_type": "code",
   "execution_count": 33,
   "id": "19e911aa-cfae-4778-abbd-576206f1c817",
   "metadata": {},
   "outputs": [
    {
     "data": {
      "text/plain": [
       "6"
      ]
     },
     "execution_count": 33,
     "metadata": {},
     "output_type": "execute_result"
    }
   ],
   "source": [
    "n.size   #total number of elements in array is contained in the size attribute."
   ]
  },
  {
   "cell_type": "markdown",
   "id": "bee2cfff-e955-4ba3-bd81-d2c49c062bef",
   "metadata": {},
   "source": [
    "How to create basic arrays:\n",
    "This section covers np.zeros(), np.ones(), np.empty(), np.arange(), np.linspace()\n"
   ]
  },
  {
   "cell_type": "code",
   "execution_count": 35,
   "id": "f2fab37b-2fa7-4ae0-aba3-ac3b416d92a1",
   "metadata": {},
   "outputs": [
    {
     "data": {
      "text/plain": [
       "array([0., 0., 0.])"
      ]
     },
     "execution_count": 35,
     "metadata": {},
     "output_type": "execute_result"
    }
   ],
   "source": [
    "np.zeros(3)"
   ]
  },
  {
   "cell_type": "code",
   "execution_count": 37,
   "id": "c9b4a994-8973-4684-aee0-98b3967eecaa",
   "metadata": {},
   "outputs": [
    {
     "data": {
      "text/plain": [
       "array([1., 1.])"
      ]
     },
     "execution_count": 37,
     "metadata": {},
     "output_type": "execute_result"
    }
   ],
   "source": [
    "np.ones(2)"
   ]
  },
  {
   "cell_type": "code",
   "execution_count": 39,
   "id": "55a5a305-9b30-459b-b86e-6a05a994812a",
   "metadata": {},
   "outputs": [
    {
     "data": {
      "text/plain": [
       "array([0., 0., 0.])"
      ]
     },
     "execution_count": 39,
     "metadata": {},
     "output_type": "execute_result"
    }
   ],
   "source": [
    "np.empty(3)"
   ]
  },
  {
   "cell_type": "code",
   "execution_count": 41,
   "id": "9d3e7155-37a4-42bf-9750-d0c1d0fed0b7",
   "metadata": {},
   "outputs": [
    {
     "data": {
      "text/plain": [
       "array([0, 1, 2, 3, 4, 5, 6])"
      ]
     },
     "execution_count": 41,
     "metadata": {},
     "output_type": "execute_result"
    }
   ],
   "source": [
    "np.arange(7) #an array with a range of elements"
   ]
  },
  {
   "cell_type": "code",
   "execution_count": 43,
   "id": "fa05fd75-c2c9-40c9-8e13-e145ece0758f",
   "metadata": {},
   "outputs": [
    {
     "data": {
      "text/plain": [
       "array([ 1,  5,  9, 13, 17])"
      ]
     },
     "execution_count": 43,
     "metadata": {},
     "output_type": "execute_result"
    }
   ],
   "source": [
    "np.arange(1,20,4)   #anarray that contains a range of evenly spaced intervals. To do this, you will specify the first number, last number, and the step size.\n"
   ]
  },
  {
   "cell_type": "code",
   "execution_count": 45,
   "id": "830ad1d2-d30a-4f84-957f-d062965423a9",
   "metadata": {},
   "outputs": [
    {
     "data": {
      "text/plain": [
       "array([ 0. ,  7.5, 15. ])"
      ]
     },
     "execution_count": 45,
     "metadata": {},
     "output_type": "execute_result"
    }
   ],
   "source": [
    "np.linspace(0,15,num=3) #o create an array with values that are spaced linearly in a specified interval"
   ]
  },
  {
   "cell_type": "markdown",
   "id": "7c820637-d04f-41ff-9262-738ca0892543",
   "metadata": {},
   "source": [
    "Adding, removing, and sorting elements: This section covers np.sort(), np.concatenate()\n"
   ]
  },
  {
   "cell_type": "code",
   "execution_count": 47,
   "id": "6d94f96f-f179-463e-9e7b-4ff4508a046b",
   "metadata": {},
   "outputs": [
    {
     "data": {
      "text/plain": [
       "array([15, 20, 24, 33, 36, 41])"
      ]
     },
     "execution_count": 47,
     "metadata": {},
     "output_type": "execute_result"
    }
   ],
   "source": [
    "np.sort(n)      #sorting the numbers in ascending order with"
   ]
  },
  {
   "cell_type": "code",
   "execution_count": 49,
   "id": "afb7b4de-2d53-457e-9fa3-a08c644799c1",
   "metadata": {},
   "outputs": [
    {
     "data": {
      "text/plain": [
       "array([1, 2, 3, 4, 5, 6, 7, 8])"
      ]
     },
     "execution_count": 49,
     "metadata": {},
     "output_type": "execute_result"
    }
   ],
   "source": [
    "num1 = np.array([1, 2, 3, 4])  #concatenate the arrays\n",
    "num2 = np.array([5, 6, 7, 8])\n",
    "np.concatenate((num1,num2))"
   ]
  },
  {
   "cell_type": "code",
   "execution_count": null,
   "id": "a93ff030-963e-4502-8587-1e2613bd7cc8",
   "metadata": {},
   "outputs": [],
   "source": []
  }
 ],
 "metadata": {
  "kernelspec": {
   "display_name": "Python 3 (ipykernel)",
   "language": "python",
   "name": "python3"
  },
  "language_info": {
   "codemirror_mode": {
    "name": "ipython",
    "version": 3
   },
   "file_extension": ".py",
   "mimetype": "text/x-python",
   "name": "python",
   "nbconvert_exporter": "python",
   "pygments_lexer": "ipython3",
   "version": "3.12.7"
  }
 },
 "nbformat": 4,
 "nbformat_minor": 5
}
